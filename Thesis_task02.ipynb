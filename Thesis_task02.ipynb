{
  "cells": [
    {
      "cell_type": "code",
      "execution_count": 56,
      "metadata": {
        "colab": {
          "base_uri": "https://localhost:8080/"
        },
        "id": "JwTxQ16Doiup",
        "outputId": "92b43fb1-c1dc-444b-9d30-89bbe7bf97ac"
      },
      "outputs": [
        {
          "name": "stderr",
          "output_type": "stream",
          "text": [
            "[nltk_data] Downloading package punkt to\n",
            "[nltk_data]     C:\\Users\\h.ahmed\\AppData\\Roaming\\nltk_data...\n",
            "[nltk_data]   Package punkt is already up-to-date!\n"
          ]
        },
        {
          "data": {
            "text/plain": [
              "True"
            ]
          },
          "execution_count": 56,
          "metadata": {},
          "output_type": "execute_result"
        }
      ],
      "source": [
        "import pandas as pd\n",
        "import json\n",
        "import os\n",
        "import nltk\n",
        "import re\n",
        "from nltk.tokenize import word_tokenize\n",
        "nltk.download('punkt')"
      ]
    },
    {
      "cell_type": "code",
      "execution_count": 57,
      "metadata": {},
      "outputs": [
        {
          "name": "stdout",
          "output_type": "stream",
          "text": [
            "True\n"
          ]
        }
      ],
      "source": [
        "print(os.path.exists('C:/data/task_02_data.csv')) "
      ]
    },
    {
      "cell_type": "code",
      "execution_count": 58,
      "metadata": {
        "colab": {
          "base_uri": "https://localhost:8080/",
          "height": 424
        },
        "id": "aotxaCOWF5-A",
        "outputId": "2412baaf-5331-4956-94bb-3c8dd96d1470"
      },
      "outputs": [
        {
          "data": {
            "text/html": [
              "<div>\n",
              "<style scoped>\n",
              "    .dataframe tbody tr th:only-of-type {\n",
              "        vertical-align: middle;\n",
              "    }\n",
              "\n",
              "    .dataframe tbody tr th {\n",
              "        vertical-align: top;\n",
              "    }\n",
              "\n",
              "    .dataframe thead th {\n",
              "        text-align: right;\n",
              "    }\n",
              "</style>\n",
              "<table border=\"1\" class=\"dataframe\">\n",
              "  <thead>\n",
              "    <tr style=\"text-align: right;\">\n",
              "      <th></th>\n",
              "      <th>lematized_sent</th>\n",
              "      <th>Catagories</th>\n",
              "    </tr>\n",
              "  </thead>\n",
              "  <tbody>\n",
              "    <tr>\n",
              "      <th>0</th>\n",
              "      <td>aj ek shia se mila mene us pocha k tum log zul...</td>\n",
              "      <td>religious offensive</td>\n",
              "    </tr>\n",
              "    <tr>\n",
              "      <th>1</th>\n",
              "      <td>qadyani ka jo yaar hai ghaddar</td>\n",
              "      <td>religious offensive</td>\n",
              "    </tr>\n",
              "    <tr>\n",
              "      <th>2</th>\n",
              "      <td>aby jaa khatmal tum sare mutah ki paidawar ho</td>\n",
              "      <td>religious offensive</td>\n",
              "    </tr>\n",
              "    <tr>\n",
              "      <th>3</th>\n",
              "      <td>mirza qadyani aur is ki zaryat ke kafir honay ...</td>\n",
              "      <td>religious offensive</td>\n",
              "    </tr>\n",
              "    <tr>\n",
              "      <th>4</th>\n",
              "      <td>sare shia jahil hain in ky belief ki tarha</td>\n",
              "      <td>religious offensive</td>\n",
              "    </tr>\n",
              "    <tr>\n",
              "      <th>...</th>\n",
              "      <td>...</td>\n",
              "      <td>...</td>\n",
              "    </tr>\n",
              "    <tr>\n",
              "      <th>595</th>\n",
              "      <td>bhai ye kia sun raha hun is ka matlb me bilkul...</td>\n",
              "      <td>Neutral</td>\n",
              "    </tr>\n",
              "    <tr>\n",
              "      <th>596</th>\n",
              "      <td>bhai dunya gol ha kisi na tariqe se ye bat sam...</td>\n",
              "      <td>Neutral</td>\n",
              "    </tr>\n",
              "    <tr>\n",
              "      <th>597</th>\n",
              "      <td>g m asaa kuch nahi khti</td>\n",
              "      <td>Neutral</td>\n",
              "    </tr>\n",
              "    <tr>\n",
              "      <th>598</th>\n",
              "      <td>g apne friday ko e ye alfaz milahaza fermae thy</td>\n",
              "      <td>Neutral</td>\n",
              "    </tr>\n",
              "    <tr>\n",
              "      <th>599</th>\n",
              "      <td>main apka btaou janu</td>\n",
              "      <td>Neutral</td>\n",
              "    </tr>\n",
              "  </tbody>\n",
              "</table>\n",
              "<p>600 rows × 2 columns</p>\n",
              "</div>"
            ],
            "text/plain": [
              "                                        lematized_sent           Catagories\n",
              "0    aj ek shia se mila mene us pocha k tum log zul...  religious offensive\n",
              "1                       qadyani ka jo yaar hai ghaddar  religious offensive\n",
              "2        aby jaa khatmal tum sare mutah ki paidawar ho  religious offensive\n",
              "3    mirza qadyani aur is ki zaryat ke kafir honay ...  religious offensive\n",
              "4           sare shia jahil hain in ky belief ki tarha  religious offensive\n",
              "..                                                 ...                  ...\n",
              "595  bhai ye kia sun raha hun is ka matlb me bilkul...              Neutral\n",
              "596  bhai dunya gol ha kisi na tariqe se ye bat sam...              Neutral\n",
              "597                            g m asaa kuch nahi khti              Neutral\n",
              "598    g apne friday ko e ye alfaz milahaza fermae thy              Neutral\n",
              "599                               main apka btaou janu              Neutral\n",
              "\n",
              "[600 rows x 2 columns]"
            ]
          },
          "execution_count": 58,
          "metadata": {},
          "output_type": "execute_result"
        }
      ],
      "source": [
        "dataset = dataset = pd.read_csv('C:/data/task_02_data.csv')\n",
        "dataset"
      ]
    },
    {
      "cell_type": "code",
      "execution_count": 59,
      "metadata": {
        "colab": {
          "base_uri": "https://localhost:8080/"
        },
        "id": "QnF4rYMil_Ow",
        "outputId": "e512b004-02ee-4b08-a811-3bd8080ad272"
      },
      "outputs": [
        {
          "name": "stdout",
          "output_type": "stream",
          "text": [
            "[['aj ek shia se mila mene us pocha k tum log zuljana ki tatti bhi khate ho kia bhsori wala', 'religious offensive'], ['qadyani ka jo yaar hai ghaddar', 'religious offensive'], ['aby jaa khatmal tum sare mutah ki paidawar ho', 'religious offensive'], ['mirza qadyani aur is ki zaryat ke kafir honay mein bhi koi shak nahi jo un kufr kere woh musalman', 'religious offensive'], ['sare shia jahil hain in ky belief ki tarha', 'religious offensive'], ['mazak se hat k sunni bohat chotiya hain', 'religious offensive'], ['shia tum log zuljana ki tatti ho gandu', 'religious offensive'], ['log suno agar corona virus khatam bhi ho jaye tab shia se dor raho yeh gandagi ka dhair hain bharwa', 'religious offensive'], ['tm firoun ki aulad ho bharwa khatmal', 'religious offensive'], ['isko zakir kutta ko to bethaya gaya hai sahabi k khilaf bhonkny lye', 'religious offensive'], ['shia kanjar ghoray ke pujari yeh ganday ghaleez aqeedah ka giroh hai karorron lanat un par', 'religious offensive'], ['bhar me jao khatmal tum log bhenchod', 'religious offensive'], ['me tum shia ki imamon ko nahi maanta ab jaa kr gand marao khatmal aulad', 'religious offensive'], ['shia maloon ko girftar karo', 'religious offensive'], ['hindu jahil gaey ka peshap peety hain', 'religious offensive'], ['shaitan k shagird hain hindu gandu', 'religious offensive'], ['taravi py jhoty davy krta hain ye', 'religious offensive'], ['deobandi islam say kharij hain', 'religious offensive'], ['jahannum ki aag main jaly ga pagal molana', 'religious offensive'], ['deobandi boht hi ziada harami hain', 'religious offensive'], ['firoun ki nasal se hai mullah khinzir', 'religious offensive'], ['ye sare sunni dozakhi ki kutta hain', 'religious offensive'], ['harami hain barelvi', 'religious offensive'], ['hindu k bhagwan main bhi garmi hai sala biwi sath rakhta harami', 'religious offensive'], ['qadyani chahay trmp ke paas jao ya apne baap shaitan tum phir bhi kafir hi raho ge', 'religious offensive'], ['barelvi ne to bhenchod biidat ko aam kar diya hai', 'religious offensive'], ['hindu bharwa k baap hain hum', 'religious offensive'], ['tum sunni gandu khatm prhty ho khane ki barkat khatam karny ky lye', 'religious offensive'], ['shia sare hi bhenchod hote hain q k inho ne apne behan paish krni hoti hai', 'religious offensive'], ['bahar mein jao khatmal kutta', 'religious offensive'], ['tu hindu chod ly apna bhagwan', 'religious offensive'], ['tu chod ly shayd koi khuda ml jay tjhy bhi', 'religious offensive'], ['khatmal bharwa tum har mazhab say kharij ho', 'religious offensive'], ['ahmadi islam aur pakistan ke ghaddar hain', 'religious offensive'], ['shia ghaleez kafir hai', 'religious offensive'], ['qadyani deen islam ke liye khatrah hain gustaakh sahabi aur rasool kisi riayat mustahiq nahi ye kutta', 'religious offensive'], ['shia lanti kutta kafir hain', 'religious offensive'], ['napak qadyani kafir', 'religious offensive'], ['qadyani kal bhi kafir the aaj hain', 'religious offensive'], ['jo kutta letreen mein mera woh hai mirza qadyani', 'religious offensive'], ['na ahmadi muslim sirf kafir', 'religious offensive'], ['dimagh har jagah gand marwa k wesy hi nahi raha hai tera or khuda koi tere pass', 'religious offensive'], ['qadyani ek fitna ka naam hai jiska agenda pakistan mein fasad phelana inshaallah naakaam aur zaleel honge', 'religious offensive'], ['qadyani kutta par bhonkna wala', 'religious offensive'], ['jo bhi qadyani kafir ke liye narm gosht rakhta hai woh se kharij tajdaar zindabad', 'religious offensive'], ['tum log jtny hoty ho bharwa utny hi mazhab s door', 'religious offensive'], ['tu bhi rehny de wesy kutta jannat m nahi jayga', 'religious offensive'], ['idaron se guzarish hai ke jism faroshi wali jagahon par pabandi lagai jaye takay ulama bhonkna wala ki tadad mein kami ho', 'religious offensive'], ['tableeghi jamaat ke khilaf baghawat rakhne wala hi deen dushman hain kanjar ki aulad', 'religious offensive'], ['mirzai murtad jeene ka haq nahi rakhte', 'religious offensive'], ['ary han tum to musalman main hi itny firka hain jahil', 'religious offensive'], ['qadyani kabhi bhi musalman nahi kehla sakte mirza ahmad ek kafir tha hai aur hi rahe ga', 'religious offensive'], ['zamin mirasi tujh par lanat beshumar', 'religious offensive'], ['islam ke dushman qadyani is mulk bhi ghaddar hain', 'religious offensive'], ['masjid band karne wala par lanat', 'religious offensive'], ['qadyani koi firka ya maslak nahi balke yeh duniya ke bad tareen kafir murtad aur fitna hain is fitna ko jarr se ukharna hai', 'religious offensive'], ['qadyani qayamat tak pakistan mein jagah nahi bana paen ge kafir', 'religious offensive'], ['qadyani ik fitna aur fitna ko khatam karna zaroor hai', 'religious offensive'], ['mera imaan kehta hai is zamin par sab se najas aur badboo daar chiz qadyani hain', 'religious offensive'], ['tum hindu ko abhi main khana deny lag jaon mjhy food and nutrition ka bhagwan bana logy bhenchod sale', 'religious offensive'], ['agar aap log ne khinzir nahi dekha to in kanjar shia ko dekh lo', 'religious offensive'], ['tum bharwa log ko bhi to 4 ki ijazat hai phir bahir mou marty ho ay bary sahi muslim', 'religious offensive'], ['sare ek jaise nahi hoty tum to hi hindu harami ho', 'religious offensive'], ['chehlum tum q mana rhy to sunni ho chinal ki aulad', 'religious offensive'], ['pakistan ko qadyani se pak karna hamara azam hai', 'religious offensive'], ['shia duniya ka lanti log hain', 'religious offensive'], ['to kia tum shia ki tarha peetty rahen hum ab kanjar', 'religious offensive'], ['qadyani kafir hai qayamat tak', 'religious offensive'], ['bharwa hum haleem ghareeb m bantny k lye bnaty hain tmhary tarha janwar py zulm nahi karty khatmal ki nasal', 'religious offensive'], ['mirzai palidh kafir', 'religious offensive'], ['qadyani ka difaa karna kufr hai', 'religious offensive'], ['qadyani jahannum ke kutta hain', 'religious offensive'], ['kafir shia', 'religious offensive'], ['shia khinzir gustaakh ko kutta ke mout mara jaye', 'religious offensive'], ['kafir the hain aur rahay ge nah tum ko pakistan musalman manay ga shuru se hi', 'religious offensive'], ['tera khuda nazr ajayga to main bhi jawab de duga', 'religious offensive'], ['qadyani ka jo haami hai pakka number one harami', 'religious offensive'], ['mutah ki ghaleez paidawar', 'religious offensive'], ['tumhara koi firka nahi hai tum log fitna ho bharwa', 'religious offensive'], ['na shukry atheist tjhy zindge di hai allah ny or tum usko hi nahi manty', 'religious offensive'], ['to koi daleel do na kanjar btao tumhara allah kahan hai', 'religious offensive'], ['tujh jaise bharwa athiest se me baat bhi na karon', 'religious offensive'], ['ja chotiya tujhy to khud nahi pata allah kahan hai', 'religious offensive'], ['han to tumhari tarha bavla thori hain ek hi khuda ko sare task de dn', 'religious offensive'], ['tumhara bhagwan her cheez ka alag hai ta k nizam chala raha bharwa', 'religious offensive'], ['aby bhagwan hai ya ksi factory mein mazdoor lgay huy bhenchod', 'religious offensive'], ['oye kanjar tameez say bat kar mery bhagwan ky bary mein', 'religious offensive'], ['kon se waly bhagwan ki izat karon tery bhenchod ye b bata de', 'religious offensive'], ['kameena tera mazhab ye sikhata hai k dosry ki burai kro', 'religious offensive'], ['aby gandu tera mazhab count hi nahi hota', 'religious offensive'], ['tum hindu to gae ka moot pi kar bare hue ho ghaleez kanjar', 'religious offensive'], ['tumhari shia log bhi to khata hn ghory ki tatti', 'religious offensive'], ['wo bhi tmhari hindu nasal ky hongay bharwa', 'religious offensive'], ['bas tu to itna kanjar hai k apny hi mazhab walo ky khilaf', 'religious offensive'], ['khilaf nahi hu kutta jo kam mry mazhab mein nahi wo ksi sorat bardasht', 'religious offensive'], ['tery mazhab mein to aurat mard ka bina shadi k sath rehna bhi jaiz nahi h q rehty ho phir', 'religious offensive'], ['main to nahi rehta tery jaise modern chotiya hain jinho n islam ko kharab krdya hai', 'religious offensive'], ['to mtlb azan m zor se bolna jaiz hai jahil shia ki hota hoga', 'religious offensive'], ['shia itny jahil hain namaz k agy bhi pathr rakhty zamin me sajda krny bajaye jaise to moum ki hai', 'religious offensive'], ['tum kanjar sunni hazrat ali ka murtaba pta hai nahi to chehlum ki choti enjoy krty bas', 'religious offensive'], ['kabi quran parhna pata chal jaega jahil se nikal jaogy', 'religious offensive'], ['tum paida hoty time likhwa k ay thy ky jannat me jaogy', 'religious offensive'], ['proud nai aitmad hai apny allah py k hum hi jannati hain', 'religious offensive'], ['tum log bht proudy ho jannat ajiz ko milty hai', 'religious offensive'], ['hum ek allah ko hi manty hain bs tareeka alag jahil', 'religious offensive'], ['jahil to tum ho jo apny se tareeka ijad karty kafir barelvi', 'religious offensive'], ['humary to 2 god hain phr bhi sb christian ek mzahab mein', 'religious offensive'], ['tum ka ek khuda hai to follow tarha se q nahi karty', 'religious offensive'], ['tum log agr achy hoty to confuse nahi apny deen ko ly kr k koi kch act krta hai kuch chotiya musalman', 'religious offensive'], ['qadyani kafir aur murtad hain', 'religious offensive'], ['khinzir se barh kar hai najis qadyani', 'religious offensive'], ['tum musalman to bhenchod masoom janwar ko bhi nahi chorte', 'religious offensive'], ['ja ky peeshab pi janwar ka ta k tera dimagh kholy sale hindu chinal ki aulad', 'religious offensive'], ['gustakh zamin kutta ko giraftar karo', 'religious offensive'], ['shia dunia ka woh wahid ghaleez tareen mazhab hai jisme gaali dena ibadat', 'religious offensive'], ['aby bharwa jao jaa kar apne nange bhagwan ki poja', 'religious offensive'], ['main gawahi deta hoon ke mirza ghulam ahmad qadyani kafir hai aur kazab uske tamam maanne wala hain se kharij', 'religious offensive'], ['bhen ki lora tum musalman kis ibadat karte ho jo dikhta hi nahi hai', 'religious offensive'], ['yahi to jahil hai tumhari jo ly dobyge tum kanjar kafir ko', 'religious offensive'], ['aby jahil kabhi ek cheez jal k wapas se bani hai', 'religious offensive'], ['wapas uthenge gumrah jahil qayamat k din', 'religious offensive'], ['aby to mitti me dafan krne se wo konsa phr paida hojaega jahil musalman', 'religious offensive'], ['lash ko jala dety ho ye kahan ki insan hai jahil hindu', 'religious offensive'], ['kutta ky sath shadi krlety ho ye kon sa mazhab hai tum bhsori wala hindu ka', 'religious offensive'], ['tum log janwar ka peeshab peety ho gandu ye knsa mazhab hai', 'religious offensive'], ['tum log janwar py zulm krty ho unko kha lety ye knsa mazhab hai lanat muslim', 'religious offensive'], ['qadyani ki difa karna kuf khamosh rehna gunah kabeera aur unke khilaf awaz uthana jihad akbar hai', 'religious offensive'], ['ki jamaat par tabarra karne wala kafir hai', 'religious offensive'], ['mazhab mein nahi sekhaty lekin tum jeso ko yahi zuban smj ati hai kafir', 'religious offensive'], ['jo qadyani ko kafir manta ha re-tweet karein aur un par lanat bhejein qadyani be shumar', 'religious offensive'], ['dunkay ki chot par qadyani kafir jo nah maane woh bhi mustanid', 'religious offensive'], ['tum log dozakh ho', 'religious offensive'], ['kafir qadyani baalatafaq wajib al-qatl hain', 'religious offensive'], ['shia kafir ko lagam do', 'religious offensive'], ['mutah ki is paidawar pe lanat', 'religious offensive'], ['aby ja gumrah ho tm log khabees', 'religious offensive'], ['shia ke imam bargah mein ibadat jari hai aur hamari masjid ko band kiya ja raha', 'religious offensive'], ['teri maslak hai sharaarat ko ibadat kehna mera tere har shar ki mazamat karna', 'religious offensive'], ['yahudiyo ki aulad qadyani harami', 'religious offensive'], ['musalman k batil khalifa nai', 'religious offensive'], ['aby khatmal ki aulad lund prh charh', 'religious offensive'], ['dushmana alahbait pay lanat', 'religious offensive'], ['jab tak jaan mein hai qadyani ko kafir kehta rahunga qadyani ka inkar imani farz', 'religious offensive'], ['yeh mulk qadyani ki kanjar nasal se paak hoga', 'religious offensive'], ['tujhe paida karne wali mutah khor maa par lanat ki najis ghaleez neech aulad', 'religious offensive'], ['qadyani ko khatam karo ye khinzir ki nasal se hain', 'religious offensive'], ['gand marao shiva bhagwan', 'religious offensive'], ['azaad kiyon kafir kutta zamin tujh par barsay lanat', 'religious offensive'], ['haha aby tumhary to hand made god hoty hain', 'religious offensive'], ['mirza maloon par lanat', 'religious offensive'], ['khinzir badbodar nasl shia kutta par lanat', 'religious offensive'], ['main karachi se katte qadyani par lanat bhejta hoon aur aap', 'religious offensive'], ['shia bohat hi khabees qoum hai', 'religious offensive'], ['qadyani kafir hone ke sath murtad bhi hain', 'religious offensive'], ['ka qati aqeeda kafir qadyani', 'religious offensive'], ['tumhary rasool to jab paida hi nahi huy thy kesy keh sakty hain k jesus khuda', 'religious offensive'], ['qadyani ne har moqa par pakistan ke khilaf sazishain keen', 'religious offensive'], ['qadyani ko pakistan se nikalo mein un khinzir ki koi jagah nahi ha', 'religious offensive'], ['azad kyun pakistan mein rehna hai to inko kafir kehna', 'religious offensive'], ['qadyani to mazhab nahi hai fitna fitna ko aqalat mein kaise shamil kiya gaya', 'religious offensive'], ['qadyani kabhi bhi musalman nahi kehla sakte mirza ahmad ek kafir tha hai aur hi rahe ga trend mein aao lekin sachai', 'religious offensive'], ['ye khatmal hi sare fasad ki jar hain ghaleez qoum', 'religious offensive'], ['zamin mirasi tujh par barasay be shumar lanat', 'religious offensive'], ['qadyani gali ke awara kyun se kahin zyada zaleel hai', 'religious offensive'], ['masjid band karne wala par lanat', 'religious offensive'], ['qadyani qayamat tak pakistan mein jagah nahi bana payenge kafir', 'religious offensive'], ['ham sirf pakistan mein nahi poori duniya qadyani murtad kafir ka peecha karenge', 'religious offensive'], ['qadyani ek fitna hai aur fitnon ko khatam karna zaroori', 'religious offensive'], ['qadyani sirf fitna hai', 'religious offensive'], ['qadyani aam kafir nahi balke murtad munafiq aur gustakh rasool hain', 'religious offensive'], ['zamin ali maloon rafzi par lanat be shumar', 'religious offensive'], ['ke dushman par lanat karna ibadat hai', 'religious offensive'], ['khatmal dunia k lanti log hain', 'religious offensive'], ['ye deobandi molvi fitna hai', 'religious offensive'], ['lund pe charh mere sare musalman', 'religious offensive'], ['sare molvi bas logon ko larwate hain bharwa', 'religious offensive'], ['lanat hai in sare deobandi molvi par', 'religious offensive'], ['insan ky dushman ho tum hindu jhot bolty', 'religious offensive'], ['hum firka wariyat nahi chahte magar yeh haqeeqat hai ke kuch shia badmash ban chuke hain', 'religious offensive'], ['ye konsa mazhab hai gandu jo kehta k peetu matam karo', 'religious offensive'], ['zamin ali ko giraftar kiya jaye', 'religious offensive'], ['ye sare dajjal ki aulad hain', 'religious offensive'], ['saly tujh jaise log hoty mazhab k name p fasad krny waly', 'religious offensive'], ['tery bhagwan ny to corona ki vacination ijad kri thi na randi aulad', 'religious offensive'], ['jaa kr gobar khao ghaleez hindu', 'religious offensive'], ['yeh malaun pakistan se zyada shia ke wafadar hain', 'religious offensive'], ['musalman kutta ko india mein rehny ka koi haq nahi hai', 'religious offensive'], ['tum log ko madarssa me nafrat karna sekhaty hain', 'religious offensive'], ['azan band krwao inki noise pollution hota hai in musalman ki wajh se', 'religious offensive'], ['subha 4 bjy jag k shor machaty hn lanat khn ye musalman', 'religious offensive'], ['tumhara bhagwan samny hai nahi poja ks ki krty ho bhenchod', 'religious offensive'], ['aby in musalman bharwa ko nikal dena chahye yahan se', 'religious offensive'], ['ye kn banda hamary mazhab k baary bakwas kr rha', 'religious offensive'], ['awr kutta salay shia', 'religious offensive'], ['yazeed kutta da bacha', 'religious offensive'], ['agar esi bt h to unho n namaz m ya allah madad kaha q nahi aya krny bta ab bsdk', 'religious offensive'], ['or kro ghous pak ki toheen tum deobandi kutta mout marogy', 'religious offensive'], ['kash aj ghos pak zinda hotay tu in deobandi harami ka dimag theek hojata', 'religious offensive'], ['lanat shia nayaz b khoon or thook ki dety hain', 'religious offensive'], ['sham e ghareeban exist le every sis to his brother chod do mjy', 'religious offensive'], ['na koi road hospital rozgar to phr y niazi bharwa ks marz ki dawa hai', 'political offensive'], ['is chotiya niazi k ghr ka noc bhi jali hai', 'political offensive'], ['kash koi is mulk ka bhi wali waris hota to zulfi bukhari jaise harami mujrim latak rahe hote', 'political offensive'], ['mariyam ka naya baap zardari dalal hai', 'political offensive'], ['pmln k sare members hi tatty uthane wala hain', 'political offensive'], ['han pti mein to jaise channt k dodh ky dholy nikaly hain', 'political offensive'], ['kiya niazi ke baap ka paisa hai besharam insan kis chakkar mein qoumi khazana lota raha', 'political offensive'], ['tmhary dor mein aam awam haddharmi kr rhai hai main tmhari hukumat hena to q tajro ko iran ky temator phenkny diye bund marwa rhy thy us time', 'political offensive'], ['vote lene k time noon league waly blue tick bajay bryani dabby lgaty hain', 'political offensive'], ['benazir ne apni hayat mein do baar gand kiya ek to se shaadi rachai aur doosri ko janam diya ke saath', 'political offensive'], ['punjab mein to pti ki hukumat hai phir imdaad sindh q nahi lene de rhy bhenchod agr niazi itna hi acha', 'political offensive'], ['kyon k punjab mein ziyada zarorat hai or tumhara leader ko bheek mang aya h imf se phir kch diya nahi kia', 'political offensive'], ['pti walo ko jalsy karny say fursat mile to kanjar seelab zadgan ki madad karen na', 'political offensive'], ['tumhary jahil leader ko bs bheek mangna ati hai mic b lgana nahi ata shame on you pmln', 'political offensive'], ['sach batao sare sheik rashid ke ilawa aur kon marta hai billorani par', 'political offensive'], ['tumhara leader sada nahi gandu hai jaise mulk tak chalana ata', 'political offensive'], ['is haram khor ne pore mulk ko risk par rakha', 'political offensive'], ['sindh ko tabah karne wali peoples party sharam se doob maro', 'political offensive'], ['ikhlaqi virus fawad kutta chaudhry', 'political offensive'], ['han to bharwa niazi ki tarha thori hai bv krta jay side pe lga de sal bad', 'political offensive'], ['youthiya imran bachayen gay ya eman yeh beghairat hain', 'political offensive'], ['fawad dubo ikhlaqi kutta hai uske munh nahi lagana chahta', 'political offensive'], ['ja bey gandu party ko support krta hai khd bhi', 'political offensive'], ['mukhtariya school mein gadhay nahi haqeeqat jiyala the', 'political offensive'], ['sharamnaak bat hai ab chor represent kryga hamara mulk ko dunya mein', 'political offensive'], ['bilawal kutta ka peela', 'political offensive'], ['or us se pehly bhagora chor dono ki hukumat thi', 'political offensive'], ['sindh mein hukumat kab hai daku raj awaam ko loto aur paisa zardari house manqool karo', 'political offensive'], ['pm ki bhatiji mariyam nawaz bhagora beti hai chor', 'political offensive'], ['zulfi bukhari pakistan ka ghaddar hai', 'political offensive'], ['tumhara wazir e azam parchi ky bina kahi jata nahi hai bolna sekhao gandu ko phly', 'political offensive'], ['chor hai peoples party', 'political offensive'], ['pm bhikari jahan bhi jata hai bheek mangta', 'political offensive'], ['pm ki speech ky bd bani gala se dhuwan nikal rhy hongy niazi gandu k', 'political offensive'], ['in logon ki bhook aur hawas kabhi khatam nahi hogi chor', 'political offensive'], ['noon league k chor ko nikalo mulk saf hojyga', 'political offensive'], ['shehbaz gil agya england team 17 sal bad pak agai lekin wo bsdk nahi aya jo dawai lene gya tha', 'political offensive'], ['apny mulk k dory se ruka hua hai chinese minister ny crime ko', 'political offensive'], ['ab to sab minister phly hi pochty hain mangny aen hn in kutta ne esa hal krdya hai mulk ka', 'political offensive'], ['pmln ka bhikari turkey pohnch gya mangny', 'political offensive'], ['noon ka bhikari mang raha hai or wo kh rhy maf kro', 'political offensive'], ['pmln k gandu bhikari ko ek side p khara kia hua hai', 'political offensive'], ['youthia tumhary leader ny bhi tmhy gandu bna diya btao imdaad ka pesa kahan g', 'political offensive'], ['tery gandu leader ko de diya hai ky shyd uska pait bhar jay', 'political offensive'], ['beghairat seelab m b siyast chamka rhy', 'political offensive'], ['kutta hai niazi am admi ka jeena haram krdya mehngai se', 'political offensive'], ['kanjar hai nawaz shreef ulad bhi shaitan hn mulk m fitny phelaty', 'political offensive'], ['kachra hai sara pti ki party mein', 'political offensive'], ['n ka nishan hai intekhabi or kutta ki nasal k hn party log', 'political offensive'], ['noon league bsdk apna intekhabi nishan kashkol rakh ly', 'political offensive'], ['nasoor hai shehbaz shareef mulk k lye', 'political offensive'], ['do chor ki mili bhagat pore mulk ka sitaanas kar gayi hai', 'political offensive'], ['unprh jahil mulk chalaengy ab say no to pmln rule', 'political offensive'], ['niazi bsdk me bhi bs shadi krny ki tameez thi mulk chalany k nahi', 'political offensive'], ['lanat hai aise hukumran pe', 'political offensive'], ['hamara foreign minister b hijra hai', 'political offensive'], ['4 months phly jo wazir tha wo b mard nahi lgta', 'political offensive'], ['kaun kehta hai ke pakistani ghareeb awaam hain aray duniyawalo dekho ne bheek mangne kele bhi rakha hua', 'political offensive'], ['seelab zadgan ki madad jo awam kr rhi noon league k kanjar me se bhi ly h', 'political offensive'], ['pti k lora bhi to nahi cross nahi krny de rhy punjab', 'political offensive'], ['zardari ka pet hai ya jahannam bharta hi nahi kanjar', 'political offensive'], ['seelab ki peshangoi hogai thi 3 months phly jb hamara chor pm mangny me masruf tha', 'political offensive'], ['sare politician karachi se khata hn kanjar lgata koi nahi h us py', 'political offensive'], ['barish k bd khi ki halt dekhny wali h hamara miyar ko fursat hi nahi chodny s pti walo', 'political offensive'], ['han sb karachi ko ly k apni siyasat krty hn dalla', 'political offensive'], ['paise jetne bhi lo loot ko tum log bikhari the ho aur hamesha rahoge', 'political offensive'], ['zardari kanjar k pas itna pesa hai pora pak khareed ly lekin pakistan p nahi lgata', 'political offensive'], ['sirilanka ki awam n jo kia tha pm k sath ab hamara bsdk bhi wahi krny ka time h', 'political offensive'], ['karachi my itni dakaiti hoti hai h ab koi politician bharwa nahi ayga y halt dekhny', 'political offensive'], ['kanjar hai pori noon league ki toli', 'political offensive'], ['aray jiyala kuch toh aqal kar lo kyun iss khusra ko follow karte ho', 'political offensive'], ['gandum chor bilawal', 'political offensive'], ['yeh haramkhor pura pakistan kha gaya aur kuch beghairat ab bhi mutmain hain', 'political offensive'], ['kasoor ye hai k double se bhi upr hogya gand phar de bnda pak sare politician ki', 'political offensive'], ['han bhai sai kh raha hai gandu hain noon league waly 5 months phly mra cousin 19 lac m gya', 'political offensive'], ['aby kn se 100 ghar bnayga y chor shehbaz shareef', 'political offensive'], ['bilawal rani aapko cash nahi diya jayega kyunke aap chor hain awam ka paisa chori karte ho', 'political offensive'], ['aby is hukumat ko kxh krna hota to june mein hi kar lety band bnwa ky manhoos hain saly', 'political offensive'], ['han peshangoi to jbi hi hogai thi in kanjar ko niazi ki gand m ghusna tha jb', 'political offensive'], ['bilawal rani thodi si sharam kar lo mahina kaun sa hai yeh hi dekh', 'political offensive'], ['sutro ke mutabiq sheikh rasheed ne bilawal rani ka rishta maang liya hai', 'political offensive'], ['bhatiji hai na mariyam chor usko gift kryga', 'political offensive'], ['aziz baloch kis ka paltu kutta tha ke liye bhatta ikatha karta', 'political offensive'], ['petrol ki qeemat nahi brhi abi or kiray kanjar ny brhay huy', 'political offensive'], ['jesi dhokybaz awam wesi chor hukumat', 'political offensive'], ['yeh woh lota hai jis se kayi hukmaran ne istanja kiya', 'political offensive'], ['hamza pagal is chair ko b apny ghr ki kursi samjh raha jabi uth nahi', 'political offensive'], ['noon league waly bsdk sare hi apni bari rony lgty hain', 'political offensive'], ['pti ka niazi jo 9 months islamabad ki sarko p dharna de raha tha wo nahi pta bsdk', 'political offensive'], ['wo roya nahi tha y dalla noon league ki tarha', 'political offensive'], ['allah na kry chairman bhutto khusra pakistan ka mustaqbil ho itna bheyanak nahi chaye', 'political offensive'], ['telethone py 500coror jama krny waly kanjar imran khan mutasireen ko mamo bna gya tonsa mein photoshoot k bad chlty bny', 'political offensive'], ['bahir ki imdaad wo bhi tmhari chamch gheer log k pas ja rhi hai lanat pppp party', 'political offensive'], ['is br sindhi bhutto ka wo wal krngy khd dafnaengy isy or phathar b dalngy ta k y wala beghairat phr zinda na ho', 'political offensive'], ['benazir jb se fout hui zardari bharwa ny to pppp hi kr di hai', 'political offensive'], ['pm chor baap ka harami beta', 'political offensive'], ['zulfi bukhari qatil hai', 'political offensive'], ['sindh ki barbadi pehchan ppp', 'political offensive'], ['is election mein pppp ko vote k bajaye lanat dngy', 'political offensive'], ['hamara bhi ek leader hai us se jiyala milty hain lekin hum asman nahi sar py uthaty jitna aj niazi ky sath bsdk ka youthia mila or wo rony ki acting kr k awam ko chotiya bna raha tha', 'political offensive'], ['hadsa namard na zanani hai naam uska bilawal rani', 'political offensive'], ['ik tum se pehle bhi tha firoun bana betha phir london bhag gaya', 'political offensive'], ['zardari ka beta lanati murad', 'political offensive'], ['zardari deta na pesy nawasi ki bday mein nahi jata bsdk', 'political offensive'], ['sare mulk ke is madarchod shero patwari ki behn ko peel do', 'political offensive'], ['bilawal rani jawab do', 'political offensive'], ['lund mera gya tha pm bs helocopter se hath hila k wapas agya', 'political offensive'], ['lakh di lanat teri manhoos shakal par zardari khinzir', 'political offensive'], ['manhoos hamara diye huy tex ka pesa hi hmy de k smj rhy pta nanhi kia hai', 'political offensive'], ['kutta k bacha shahbaz shareef ko mangny ki adat hai awam bhi bhikmanga bnayga', 'political offensive'], ['hamara hi khati hai hukumat or humy sher bn k dikhaty hain', 'political offensive'], ['wah ji bohot khoob bhutto koi sharam karo', 'political offensive'], ['quaid azad kar gaye yeh manhoos barbaad', 'political offensive'], ['foreign funding chor', 'political offensive'], ['hum overseas ko khti hai hukumat k ho pakistan a laro to dalla khud yahan pe kia kar rhy hein', 'political offensive'], ['beghairat ki had to mariyam aurangzeb ny kr d thi london mein', 'political offensive'], ['pakistan k pesy kha chor mariyam central london mein phir rhi hai', 'political offensive'], ['sharam baich khai hai pmln k members ny madarchod saly', 'political offensive'], ['maryan aurangzeb ny sabit kardya beghairat jo bnda hota hai usy sharm nahi ati chahye wo dob ky mar jay', 'political offensive'], ['halat to ye hai inki ky ab koi mulk nahi bolata inko k kahi pesy na mang ln', 'political offensive'], ['bhikari shehbaz shareef china ja kr bhi keh raha apny cameras humary mulk ki tarf kro or humy imdaad do', 'political offensive'], ['bilawal kutta cash kyun imdadi samaan nahi', 'political offensive'], ['ary ko b bnd kardya jo ek channel sach bolta tha is kutta hakumat ny', 'political offensive'], ['or pta nahi kis ko khareed gay y noon league jahil foj to khareed lia', 'political offensive'], ['bilawal kutta aur zardari khinzir', 'political offensive'], ['jo bhosri ke gatar ka dhakan lagate hue je bhutto nare hain woh 8 arab rashan khamoshi se taqseem kar gaye', 'political offensive'], ['ministry pe us ko betha dya hai jo khd corrupt', 'political offensive'], ['aby ye minister to bemar tha kursi mlty hi sala thk hogya', 'political offensive'], ['yeh lo pistol aur miyan sahab khudkushi kar', 'political offensive'], ['saray bolo bhikari kaun bilawal rani bhutto kam zardari', 'political offensive'], ['jhota nawaz shareef kehta hai humara london mein to kia khin b koi property nahi', 'political offensive'], ['ji bilkul pti ke hi kutta tayyar ho rahe hain jinhe haddi milne lagi hai bhonkna ki', 'political offensive'], ['teri sister ka yar to great leader hai na', 'political offensive'], ['is bilawal kanjar ko sahi gali par rahi hain', 'political offensive'], ['qarza de dya imf ny in bhikari ko', 'political offensive'], ['han bhsi 4 mah tk shoes chatny ka inam ml gya h ghulamo ko', 'political offensive'], ['imran khan bhi to pak ko ek kamzor rayasat batata tha bsdk ka', 'political offensive'], ['sare leader bs apna faida sochty hain kutta', 'political offensive'], ['chod k rakh dya hai mulk ko is hukumat ny', 'political offensive'], ['humary wazir ko quran tk to parhna nahi ata kafir', 'political offensive'], ['bilawal rani ab bas khanay ka waqt gaya hisaab dene', 'political offensive'], ['yeh khusra pakistan ki taqdeer badlay ga', 'political offensive'], ['agar imran niazi gandu ko munasib qeemat miley toh pore mulk ka soda kar denge', 'political offensive'], ['tum log chotiya ho nawaz ke tukron par palne wala kutta', 'political offensive'], ['herat hai kaise ghaddar log hum par musallat hain', 'political offensive'], ['kutta bhonky usy b haddi ml jati hai shehbaz shareef gali hi mlti hain', 'political offensive'], ['bhai matlb pm kutta se bhi badtar hai', 'political offensive'], ['esa hi hai bhai kutta bhi bhtr humara hukumat se', 'political offensive'], ['bhenchod pti waly b janwat hi hain', 'political offensive'], ['lo g pmln k kutta mein se ek kutta bhonk para', 'political offensive'], ['sindh hukoomat naihel honay ke tamam record tor chuki hai', 'political offensive'], ['tu hai kutta apny leader ki trha jo hr time rota rhta', 'political offensive'], ['ek to pmln k members jahil hn itny inhe jawab nahi deny aty : p', 'political offensive'], ['humare jitne bhi hukmaran rahe sab ke naalaiq thire', 'political offensive'], ['zardari khandan loot maar ke liye bhutto ban baitha', 'political offensive'], ['sub siyasatdan ghaddar hain', 'political offensive'], ['isb mein hira mandi walo ki hukumat agai khuda hifazat kry', 'political offensive'], ['pak me lesbian ki shadi ka kanon pass hogya bs yahi reh gya kutta hukumat mein', 'political offensive'], ['pehle khandan loot ke kha gaya ab yeh zanana mardana aa hai mulk ko lootne', 'political offensive'], ['mariyam nawaz to nighty me ghoom rhi hai y hamara ikhlaq', 'political offensive'], ['kaun se kutta wahi to nahi jo ne paale hain', 'political offensive'], ['chor hukumat', 'political offensive'], ['ghulam ho tm pmln k', 'political offensive'], ['agar masjid par pabandi lagi to bilawal ke zinda rehne bhi lag jayegi', 'political offensive'], ['jhota hai imran khan', 'political offensive'], ['pdm ka choor dala', 'political offensive'], ['pm hamara chor hai or bhikari', 'political offensive'], ['zardari khinzir aur bilawal kutta da putar yeh ajeeb milaap hai kutta kaise hosakta', 'political offensive'], ['mian sahib ki sehat ab theek lagti hai wapis bula lo dalla ko', 'political offensive'], ['lanat hai un senior siyasatdan par jo us ke peechay khare hote hain', 'political offensive'], ['allah hum sab ko fitna e youthiya se bachaye ameen', 'political offensive'], ['riyasat ek dain ka kirdar nibhati hai', 'political offensive'], ['sindh mein raaj hi kutta ka hai iss waqt', 'political offensive'], ['aap ny vote ko izzat do nara mara tha ab booot de k mamlat hl kr rhy ho awam me jaogy lag pta jaega', 'political offensive'], ['1 din ilan hoga niazi mar gaya bhenchod', 'political offensive'], ['pakistan ky khazana kha gay hein ye pti waly madarchod', 'political offensive'], ['sindh ke sab se bade chor zardari and company', 'political offensive'], ['rana sanaullah bharwa qadam barhao tumhari hukomat ka aakhri din hoga inshallah', 'political offensive'], ['bhutto madarchod jab tak mare ga nahi sindh bechara aise hi ralta rahe', 'political offensive'], ['awam nahi sirf chand gandu youthiya hai pti ky sath', 'political offensive'], ['bilawal kutta ka bacha hai yeh to sab ko pata lekin aap logon nahi ke zardari bhi', 'political offensive'], ['gandum chor sindh sarkar', 'political offensive'], ['peoples party ke khoon mein sirf corruption karna money laundering hai beghairat', 'political offensive'], ['chor sale pakistan ka dushman', 'political offensive'], ['fawad daboo ko patta daalo', 'political offensive'], ['chor daku ko baaizat bari ker rahe hain aur corruption ke khilaf imaan daar leader arrest', 'political offensive'], ['6 maah mein jo mulk diwaliya ker diya hai abhi bhi pait nhi bhara pmln ka haramkhor', 'political offensive'], ['bilawal bhi khusra ki tarah roz bheek maangta hai', 'political offensive'], ['patwari ka doosra baap kaun', 'political offensive'], ['nawaz sharif hamara leader nahi hai woh ek chor hain uske bachay bhi', 'political offensive'], ['be sharmi ghairti ki bhi had phelai bilawal zardari khusra ne', 'political offensive'], ['zulfi bukhari par mulk aur qaum se ghaddari ka muqadma chalaya jaye', 'political offensive'], ['sirf beghairat patwari k ilawa sb ki red line hai # ik', 'political offensive'], ['sindh hukumat chahe to sharaab mein bhi alcohol na nikle', 'political offensive'], ['ab waqt ah gya imported hukumat ko ghr bhjny ka inshallah', 'political offensive'], ['aisi hukoomat par bhi lanat', 'political offensive'], ['aur sindh ki awaam ko kutta se nijaat dilao', 'political offensive'], ['gali mein shor hai bilawal gandum chor', 'political offensive'], ['ratt 12 repay disel or ptroll kame hoa hy tbdili wly keeray imrando youthia', 'political offensive'], ['bhenchod bhutto', 'political offensive']]\n"
          ]
        }
      ],
      "source": [
        "sent = dataset\n",
        "sent = sent[sent['Catagories'] != 'Neutral']\n",
        "sent = sent[['lematized_sent','Catagories']]\n",
        "list_sent = sent.values.tolist()\n",
        "print(list_sent)"
      ]
    },
    {
      "cell_type": "code",
      "execution_count": 107,
      "metadata": {},
      "outputs": [],
      "source": [
        "target_group = {\n",
        "\n",
        "        \"shia\": \"shia\",\n",
        "        \"zuljana\": \"shia\",\n",
        "        \"qadyani\": \"qadyani\",\n",
        "        \"sunni\": \"sunni\",\n",
        "        \"khatmal\": \"shia\",\n",
        "        \"mirza\": \"qadyani\",\n",
        "        \"hindu\": \"hindu\",\n",
        "        \"deobandi\": \"deobandi\",\n",
        "        \"barelvi\": \"barelvi\",\n",
        "        \"ahmadi\": \"qadyani\",\n",
        "        \"tableeghi jamaat\": \"deobandi\",\n",
        "        \"mirzai\": \"qadyani\",\n",
        "        \"musalman\": \"muslim\",\n",
        "        \"zamin\": \"shia\",\n",
        "        \"bhagwan\": \"hindu\",\n",
        "        \"mutah\": \"shia\",\n",
        "        \"muslim\": \"muslim\",\n",
        "        \"tabarra\": \"shia\",\n",
        "        \"shiva\": \"hindu\",\n",
        "        \"matam\": \"shia\",\n",
        "        \"madarssa\": \"muslim\",\n",
        "        \"sham e ghareeban\": \"shia\",\n",
        "        \"niazi\": \"PTI\",\n",
        "        \"zulfi bukhari\": \"PTI\",\n",
        "        \"mariyam\": \"PMLN\",\n",
        "        \"pmln\": \"PMLN\",\n",
        "        \"pti\": \"PTI\",\n",
        "        \"noon league\": \"PMLN\",\n",
        "        \"benazir\": \"PPP\",\n",
        "        \"billorani\": \"PPP\",\n",
        "        \"peoples party\": \"PPP\",\n",
        "        \"fawad\": \"PTI\",\n",
        "        \"youthiya\": \"PTI\",\n",
        "        \"jiyala\": \"PPP\",\n",
        "        \"bilawal\": \"PPP\",\n",
        "        \"zardari\": \"PPP\",\n",
        "        \"mariyam nawaz\": \"PMLN\",\n",
        "        \"nawaz shreef\": \"PMLN\",\n",
        "        \"shehbaz shareef\": \"PMLN\",\n",
        "        \"hamza\": \"PMLN\",\n",
        "        \"bhutto\": \"PPP\",\n",
        "        \"imran khan\": \"PTI\",\n",
        "        \"pppp\": \"PPP\",\n",
        "        \"patwari\": \"PMLN\",\n",
        "        \"shahbaz shareef\": \"PMLN\",\n",
        "        \"mariyam aurangzeb\": \"PMLN\",\n",
        "        \"miyan sahab\": \"PMLN\",\n",
        "        \"nawaz\": \"PMLN\",\n",
        "        \"mian sahib\": \"PMLN\",\n",
        "        \"rana sanaullah\": \"PMLN\",\n",
        "        \"nawaz sharif\": \"PMLN\",\n",
        "        \"imrando\": \"PTI\"\n",
        "    }"
      ]
    },
    {
      "cell_type": "code",
      "execution_count": 108,
      "metadata": {},
      "outputs": [],
      "source": [
        "offensive_words =[\n",
        "    \"tatti\", \n",
        "\t\"bhsori walon\", \n",
        "\t\"ghaddar\", \n",
        "\t\"kafir\", \n",
        "\t\"jahil\",\n",
        "    \"chotiya\",\n",
        "\t\"bharwa\",\n",
        "\t\"firoun ki aulad\",\n",
        "\t\"kutta\",\n",
        "\t\"kanjar\",\n",
        "\t\"ghaleez\",\n",
        "\t\"lanat\",\n",
        "\t\"bhenchod\",\n",
        "\t\"gand marao\",\n",
        "\t\"maloon\",\n",
        "\t\"pagal\",\n",
        "\t\"harami\",\n",
        "\t\"khinzir\",\n",
        "\t\"gandu\",\n",
        "\t\"chod\",\n",
        "    \"bhsori wala\",\n",
        "\t\"gustaakh\",\n",
        "\t\"lanti\",\n",
        "\t\"napak\",\n",
        "\t\"gand marwa\",\n",
        "\t\"gand\",\n",
        "\t\"zaleel\",\n",
        "\t\"bhonkna\",\n",
        "\t\"murtad\",\n",
        "\t\"fitna\",\n",
        "\t\"chinal ki aulad\",\n",
        "\t\"palidh\",\n",
        "\t\"kufr\",\n",
        "\t\"kameena\",\n",
        "\t\"bhen ki lora\",\n",
        "\t\"bhsori wale\",\n",
        "\t\"mutah ki is paidawar\",\n",
        "    \"mutah ki paidawar\",\n",
        "    \"khatmal \",\n",
        "\t\"lund prh charh\",\n",
        "\t\"khabees\",\n",
        "\t\"fitna\",\n",
        "\t\"lund pe charh\",\n",
        "\t\"dajjal ki aulad\",\n",
        "\t\"randi\",\n",
        "\t\"bsdk\",\n",
        "\t\"dalal\",\n",
        "\t\"tatty\",\n",
        "\t\"besharam\",\n",
        "\t\"bund marwa\",\n",
        "\t\"haram khor\",\n",
        "\t\"beghairat\",\n",
        "\t\"gadhay\",\n",
        "\t\"chor\",\n",
        "\t\"bhagora\",\n",
        "\t\"bhikari\",\n",
        "\t\"nasoor\",\n",
        "\t\"hijra\",\n",
        "\t\"lora\",\n",
        "\t\"chodny\",\n",
        "\t\"dalla\",\n",
        "\t\"haramkhor\",\n",
        "\t\"madarchod\",\n",
        "\t\"lund\",\n",
        "\t\"lakh di lanat\",\n",
        "\t\"kutta k bacha\",\n",
        "\t\"manhoos\",\n",
        "\t\"bhosri ke\",\n",
        "\t\"bilawal rani\",\n",
        "\t\"jhota\",\n",
        "\t\"khusra\",\n",
        "\t\"naalaiq\",\n",
        "\t\"loot maar\",\n",
        "\t\"kutta da putar\",\n",
        "\t\"dain\",\n",
        "\t\"youthiya\",\n",
        "\t\"daku\",\n",
        "\t\"patwari\",\n",
        "\t\"imrando\"\n",
        "  ]"
      ]
    },
    {
      "cell_type": "code",
      "execution_count": 109,
      "metadata": {
        "colab": {
          "base_uri": "https://localhost:8080/"
        },
        "id": "3MWGAQDwmVYn",
        "outputId": "35b5e555-fab3-445c-f875-4f975a6417df"
      },
      "outputs": [
        {
          "name": "stdout",
          "output_type": "stream",
          "text": [
            "['mutah ki is paidawar', 'mutah ki paidawar', 'firoun ki aulad', 'chinal ki aulad', 'dajjal ki aulad', 'lund prh charh', 'kutta da putar', 'lund pe charh', 'lakh di lanat', 'kutta k bacha', 'bhsori walon', 'bhen ki lora', 'bilawal rani', 'bhsori wala', 'bhsori wale', 'gand marao', 'gand marwa', 'bund marwa', 'haram khor', 'beghairat', 'haramkhor', 'madarchod', 'bhosri ke', 'loot maar', 'bhenchod', 'gustaakh', 'khatmal ', 'besharam', 'youthiya', 'ghaddar', 'chotiya', 'ghaleez', 'khinzir', 'bhonkna', 'kameena', 'khabees', 'bhagora', 'bhikari', 'manhoos', 'naalaiq', 'patwari', 'imrando', 'bharwa', 'kanjar', 'maloon', 'harami', 'zaleel', 'murtad', 'palidh', 'gadhay', 'nasoor', 'chodny', 'khusra', 'tatti', 'kafir', 'jahil', 'kutta', 'lanat', 'pagal', 'gandu', 'lanti', 'napak', 'fitna', 'fitna', 'randi', 'dalal', 'tatty', 'hijra', 'dalla', 'jhota', 'chod', 'gand', 'kufr', 'bsdk', 'chor', 'lora', 'lund', 'dain', 'daku']\n"
          ]
        }
      ],
      "source": [
        "\n",
        "\n",
        "dataset = list_sent\n",
        "\n",
        "target_group = {key.lower(): value.lower() for key, value in target_group.items()}\n",
        "\n",
        "offensive_words.sort(key=len, reverse=True)\n",
        "print(offensive_words)\n",
        "####################################################################################\n",
        "extracted_group = []\n",
        "\n",
        "for sent in dataset:\n",
        "    # Correctly access the sentence text and its category\n",
        "    sent_text = sent[0].lower()  # Access the first element if 'sent' is a list\n",
        "    sent_category = sent[1]  # Access the second element for category\n",
        "\n",
        "    # sent_tokens = sent_text.split()  # Using simple split for tokenization\n",
        "    # sent_str = \" \".join(sent_tokens)  # Rejoin for substring matching\n",
        "\n",
        "    # Initialize dictionary for each sentence\n",
        "    resultant_group = {\"Sentence\": sent[0], \"Categories\": sent_category}\n",
        "\n",
        "    # Search for target groups\n",
        "    found_target = False\n",
        "    for key, value in target_group.items():\n",
        "        if re.search(r'\\b{}\\b'.format(re.escape(key)), sent_text, re.IGNORECASE):\n",
        "            resultant_group[\"Target Group\"] = value\n",
        "            found_target = True\n",
        "            #break  # Stop after the first match\n",
        "\n",
        "    if not found_target:\n",
        "        resultant_group[\"Target Group\"] = \"no-target\"\n",
        "\n",
        "    # Search for offensive words using regex for exact word matching\n",
        "    offensive_found = []\n",
        "    for word in offensive_words:\n",
        "        pattern = re.compile(r'\\b{}\\b'.format(re.escape(word)), re.IGNORECASE)\n",
        "        if pattern.search(sent_text):\n",
        "            offensive_found.append(word)\n",
        "            # Replace the found offensive word with a placeholder to avoid re-matching\n",
        "            sent_text = pattern.sub(\"PLACEHOLDER\", sent_text)\n",
        "\n",
        "    resultant_group[\"Offensive Words\"] = \", \".join(offensive_found) if offensive_found else \"no-offensive\"\n",
        "\n",
        "    extracted_group.append(resultant_group)\n"
      ]
    },
    {
      "cell_type": "code",
      "execution_count": 110,
      "metadata": {
        "colab": {
          "base_uri": "https://localhost:8080/",
          "height": 585
        },
        "id": "fjPZcl9_uNd4",
        "outputId": "6daa8413-5d3a-4861-a0b5-21b413fc6664"
      },
      "outputs": [],
      "source": [
        "df = pd.DataFrame(extracted_group, columns=[\"Sentence\",\"Categories\",\"Target Group\", \"Offensive Words\"])\n",
        "df.to_csv(r'C:\\Thesis_01\\task_02_result.csv', index=False)"
      ]
    },
    {
      "cell_type": "code",
      "execution_count": 111,
      "metadata": {},
      "outputs": [
        {
          "name": "stdout",
          "output_type": "stream",
          "text": [
            "Sentence           aj ek shia se mila mene us pocha k tum log zul...\n",
            "Categories                                       religious offensive\n",
            "Target Group                                                    shia\n",
            "Offensive Words                                   bhsori wala, tatti\n",
            "Name: 0, dtype: object\n"
          ]
        }
      ],
      "source": [
        "print(df.iloc[0])"
      ]
    },
    {
      "cell_type": "code",
      "execution_count": 106,
      "metadata": {
        "colab": {
          "base_uri": "https://localhost:8080/",
          "height": 430
        },
        "id": "5V8mA0dbCE1D",
        "outputId": "5c3c81b5-0375-4d60-a0b5-e3740fa7e12a"
      },
      "outputs": [
        {
          "data": {
            "image/png": "[encoded data removed]",
            "text/plain": [
              "<Figure size 640x480 with 1 Axes>"
            ]
          },
          "metadata": {},
          "output_type": "display_data"
        }
      ],
      "source": [
        "from matplotlib import pyplot as plt\n",
        "import seaborn as sns\n",
        "df.groupby('Target Group').size().plot(kind='barh', color=sns.palettes.mpl_palette('Dark2'))\n",
        "plt.gca().spines[['top', 'right',]].set_visible(False)"
      ]
    },
    {
      "cell_type": "code",
      "execution_count": null,
      "metadata": {
        "id": "mb9oT6oWtSiz"
      },
      "outputs": [],
      "source": [
        "# extracted_group = []\n",
        "# dataset=  [\"harami hain barelvi\", \"nawaz shareef choor hai\", \"Gustakh Zamin kutte ko giraftar karo\" , \"tumhara bhagwan bhi maderchod hai\", 'Mirzai murtad jeene ka haq nahi rakhte', \"Mutah ki is pedawar pe laanat\",\"qadyani harami kafir hain\"]\n",
        "# #dataset = list_sent\n",
        "# # target_group = [\"Hindu\", \"muslim\",\"Brelvi\",\"Shia\",\"sunni\",\"deobnadi\"]\n",
        "\n",
        "# target_group = {\"shia\": \"shia\", \"zuljana\": \"shia\", \"khatmal\": \"shia\", \"mutah\": \"shia\", \"shiaon\": \"shia\", \"zamin\": \"shia\", \"shia\": \"shia\", \"shia\": \"shia\",\n",
        "#                 \"qadyani\": \"qadyani\", \"qadiyanyon\": \"qadyani\", \"sunni\": \"sunni\", \"Deobandi\": \"Deobandi\", \"barelvi\": \"barelvi\", \"Hindu\": \"Hindu\", \"bhagwan\": \"Hindu\",\n",
        "#                 \"Brelviyon\": \"barelvi\", \"Ahmedi\": \"qadyani\", \"TablighiJamaat\": \"Deobandi\", \"Mirzai\": \"qadyani\", \"Zamin\": \"shia\", \"Muslim\": \"Muslim\",\n",
        "#                 \"musalman\": \"Muslim\",\"nawaz shareef\": \"PMLN\"}\n",
        "# target_group =  dict([(target_key.lower(), target_value.lower()) for (target_key, target_value) in target_group.items()])\n",
        "\n",
        "# offensive_words = [\"bharvy\",\"Jahil\",\"harami\",\"chutiye\", \"tatti\",\"kafir\", 'ghaddar','maderchod','laanat','gustakh', 'murtad']\n",
        "# for sent in dataset:\n",
        "#   sent_token = word_tokenize(sent)\n",
        "#   sent_token_ordered = [word.lower() for word in sent_token]\n",
        "#   sent_token_unordered = set(sent_token_ordered)\n",
        "\n",
        "#   resultant_group = []\n",
        "#   # search whether the target group exist in the sentence\n",
        "#   # already in lower case as above\n",
        "#   # target_group = set([word.lower() for word in target_group.keys])\n",
        "#   offensive_words = set([word.lower() for word in offensive_words])\n",
        "\n",
        "#   result_target = list(sent_token_unordered.intersection(list(target_group.keys())))\n",
        "#   if len(result_target) == 0:\n",
        "#     result_target.append(\"no-target\")\n",
        "#  # print(result_target)\n",
        "\n",
        "#   result_offensive = list(sent_token_unordered.intersection(offensive_words))\n",
        "#   if len(result_offensive) == 0:\n",
        "#     result_offensive.append(\"no-offensive\")\n",
        "#   #print(result_offensive)\n",
        "\n",
        "\n",
        "#   resultant_group.append(\" \".join(list(sent_token_ordered)))\n",
        "#   resultant_group.append(target_group[result_target[0]] if result_target[0] != \"no-target\" else result_target[0])\n",
        "#   resultant_group.append(\", \".join(result_offensive))\n",
        "#   # print(resultant_group)\n",
        "#   # print(pd.DataFrame(resultant_group))\n",
        "#   extracted_group.append(resultant_group)\n",
        "\n",
        "#print(extracted_group)\n"
      ]
    },
    {
      "cell_type": "code",
      "execution_count": null,
      "metadata": {},
      "outputs": [],
      "source": [
        "# List of offensive words\n",
        "#offensive_words = [\"bharwa\", \"Jahil\", \"harami\", \"chutiye\", \"tatti\", \"kafir\", 'ghaddar', 'maderchod', 'laanat', 'gustakh', 'murtad', \"bhosri wale\"]\n",
        "\n",
        "# Result container\n",
        "# extracted_group = []\n",
        "\n",
        "# for sent in dataset:\n",
        "#     # Correctly access the sentence text and its category\n",
        "#     sent_text = sent[0].lower()\n",
        "#     sent_category = sent[1]  # Access the category\n",
        "#     sent_tokens = sent_text.split()  # Using simple split for tokenization\n",
        "#     sent_str = \" \".join(sent_tokens)  # Rejoin for substring matching\n",
        "\n",
        "#     # Initialize dictionary for each sentence\n",
        "#     resultant_group = {\"Sentence\": sent[0], \"Categories\": sent_category}\n",
        "\n",
        "#     # Search for target groups\n",
        "#     found_target = False\n",
        "#     for key, value in target_group.items():\n",
        "#         if key in sent_str:  # Check if the key phrase is in the sentence string\n",
        "#             resultant_group[\"Target Group\"] = value\n",
        "#             found_target = True\n",
        "#             break  # Stop after the first match\n",
        "\n",
        "#     if not found_target:\n",
        "#         resultant_group[\"Target Group\"] = \"no-target\"\n",
        "\n",
        "#     # Search for offensive words\n",
        "#     offensive_found = []\n",
        "#     for word in offensive_words:\n",
        "#         if word in sent_str:  # Check if the offensive phrase is in the sentence string\n",
        "#             offensive_found.append(word)\n",
        "\n",
        "#     resultant_group[\"Offensive Words\"] = \", \".join(offensive_found) if offensive_found else \"no-offensive\"\n",
        "\n",
        "#     extracted_group.append(resultant_group)"
      ]
    }
  ],
  "metadata": {
    "colab": {
      "provenance": []
    },
    "kernelspec": {
      "display_name": "Python 3",
      "name": "python3"
    },
    "language_info": {
      "codemirror_mode": {
        "name": "ipython",
        "version": 3
      },
      "file_extension": ".py",
      "mimetype": "text/x-python",
      "name": "python",
      "nbconvert_exporter": "python",
      "pygments_lexer": "ipython3",
      "version": "3.12.2"
    }
  },
  "nbformat": 4,
  "nbformat_minor": 0
}
